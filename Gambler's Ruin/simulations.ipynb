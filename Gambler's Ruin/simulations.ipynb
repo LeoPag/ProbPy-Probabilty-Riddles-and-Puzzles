{
 "cells": [
  {
   "cell_type": "code",
   "execution_count": 1,
   "metadata": {},
   "outputs": [],
   "source": [
    "from gambler_ruin import Simulation as gambler_ruin_simulation"
   ]
  },
  {
   "attachments": {},
   "cell_type": "markdown",
   "metadata": {},
   "source": [
    "Two players, Angelo and Leonardo, repeatedly toss an (unfair) coin.  \n",
    "Angelo starts with 2 $\$ $, Leonardo with 1 $ \$ $. \n",
    "For heads, Angelo wins one dollar from Leonardo, for tails, Leonardo wins one dollar from Angelo.\n",
    "The game continues until one player is bankrupt.\n",
    "\n",
    "Here, we simulate the game.\n"
   ]
  },
  {
   "attachments": {},
   "cell_type": "markdown",
   "metadata": {},
   "source": [
    "The estimate of the probability of Angelo winning (with its confidence interval) is: "
   ]
  },
  {
   "cell_type": "code",
   "execution_count": 2,
   "metadata": {},
   "outputs": [
    {
     "name": "stdout",
     "output_type": "stream",
     "text": [
      "The sample proportion is:  0.568\n",
      "The  95.0 % confidence interval for the mean of the population is: [ 0.5582912318001373 0.5777087681998626 ]\n"
     ]
    }
   ],
   "source": [
    "p = 2/3\n",
    "sim = gambler_ruin_simulation(p)\n",
    "\n",
    "\"\"\"\n",
    "Define here the statistical parameters\n",
    "\"\"\"\n",
    "CONFIDENCE = 0.95\n",
    "SAMPLES = 10000\n",
    "\n",
    "results = sim.get_confidence_interval(CONFIDENCE, SAMPLES)"
   ]
  }
 ],
 "metadata": {
  "kernelspec": {
   "display_name": ".venv",
   "language": "python",
   "name": "python3"
  },
  "language_info": {
   "codemirror_mode": {
    "name": "ipython",
    "version": 3
   },
   "file_extension": ".py",
   "mimetype": "text/x-python",
   "name": "python",
   "nbconvert_exporter": "python",
   "pygments_lexer": "ipython3",
   "version": "3.11.3"
  },
  "orig_nbformat": 4
 },
 "nbformat": 4,
 "nbformat_minor": 2
}
