{
 "cells": [
  {
   "cell_type": "code",
   "execution_count": 2,
   "metadata": {},
   "outputs": [],
   "source": [
    "from first_variant import Simulation as sim_1\n",
    "from second_variant import Simulation as sim_2"
   ]
  },
  {
   "cell_type": "code",
   "execution_count": 3,
   "metadata": {},
   "outputs": [
    {
     "name": "stdout",
     "output_type": "stream",
     "text": [
      "The  95.0 % confidence interval for the mean of the population is: [ 0.24368793211832915 0.26071206788167084 ]\n"
     ]
    }
   ],
   "source": [
    "\"\"\"\n",
    "Create the object for the problem\n",
    "\"\"\"\n",
    "\n",
    "sim_first_variant = sim_1()\n",
    "\n",
    "\"\"\"\n",
    "Define here the statistical parameters\n",
    "\"\"\"\n",
    "CONFIDENCE = 0.95\n",
    "SAMPLES = 10000\n",
    "\n",
    "sim_first_variant.get_confidence_interval(CONFIDENCE, SAMPLES)\n"
   ]
  },
  {
   "cell_type": "code",
   "execution_count": 4,
   "metadata": {},
   "outputs": [
    {
     "name": "stdout",
     "output_type": "stream",
     "text": [
      "The  95.0 % confidence interval for the mean of the population is: [ 0.18920419993327825 0.20479580006672177 ]\n"
     ]
    }
   ],
   "source": [
    "\"\"\"\n",
    "Create the object for the problem\n",
    "\"\"\"\n",
    "\n",
    "sim_second_variant = sim_2()\n",
    "\n",
    "\"\"\"\n",
    "Define here the statistical parameters\n",
    "\"\"\"\n",
    "CONFIDENCE = 0.95\n",
    "SAMPLES = 10000\n",
    "\n",
    "sim_second_variant.get_confidence_interval(CONFIDENCE, SAMPLES)\n"
   ]
  }
 ],
 "metadata": {
  "kernelspec": {
   "display_name": ".venv",
   "language": "python",
   "name": "python3"
  },
  "language_info": {
   "codemirror_mode": {
    "name": "ipython",
    "version": 3
   },
   "file_extension": ".py",
   "mimetype": "text/x-python",
   "name": "python",
   "nbconvert_exporter": "python",
   "pygments_lexer": "ipython3",
   "version": "3.11.3"
  },
  "orig_nbformat": 4
 },
 "nbformat": 4,
 "nbformat_minor": 2
}
