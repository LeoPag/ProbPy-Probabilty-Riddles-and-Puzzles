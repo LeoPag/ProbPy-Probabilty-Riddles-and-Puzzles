{
  "nbformat": 4,
  "nbformat_minor": 0,
  "metadata": {
    "colab": {
      "provenance": []
    },
    "kernelspec": {
      "name": "python3",
      "display_name": "Python 3"
    },
    "language_info": {
      "name": "python"
    }
  },
  "cells": [
    {
      "cell_type": "code",
      "source": [
        "from correlated_gaussians import Simulation\n",
        "from scipy.stats import norm\n",
        "import math"
      ],
      "metadata": {
        "id": "3CmPG_CVxlbc"
      },
      "execution_count": 13,
      "outputs": []
    },
    {
      "cell_type": "markdown",
      "source": [
        "We conduct here some simulations for the problem. We want to show how we can obtain two standard random variables $X \\sim \\mathcal{N}(0,1)$,$Y \\sim \\mathcal{N}(0,1)$  from a uniform sampler $U \\sim \\mathcal{U}(0,1)$. Furthermore, we want $X$ and $Y$ to have a correlation coefficient $ρ_{xy}$ of $ρ$."
      ],
      "metadata": {
        "id": "5yO7egKGxwAk"
      }
    },
    {
      "cell_type": "markdown",
      "source": [
        "Let us start by simulating what happens when we enforce $ρ = 0.8$. we also fix the number of samples (N) we retrive for $X$ and $Y$."
      ],
      "metadata": {
        "id": "PGumE8cnxzb5"
      }
    },
    {
      "cell_type": "code",
      "source": [
        "rho = 0.8\n",
        "N = 10000\n",
        "\n",
        "sim = Simulation(rho, N)"
      ],
      "metadata": {
        "id": "aLrwXZOrxvRT"
      },
      "execution_count": 3,
      "outputs": []
    },
    {
      "cell_type": "markdown",
      "source": [
        "\n",
        "We start from two independent uniform random variables $U_1 \\sim \\mathcal{U}(0,1)$ and $U_2 \\sim \\mathcal{U}(0,1)$.\n",
        "We retrieve samples for X and Y with the tranformations:\n",
        "\n",
        "$X = \\Phi_Z^{-1}(U_1) $\n",
        "\n",
        "$Y = \\rho \\cdot \\Phi_Z^{-1}(U_1) + \\sqrt{1-\\rho^2} \\cdot \\Phi_Z^{-1}(U_2)$\n"
      ],
      "metadata": {
        "id": "5Gm23pKyyAxT"
      }
    },
    {
      "cell_type": "code",
      "source": [
        "obs_x,obs_y = sim.get_observations()"
      ],
      "metadata": {
        "id": "f3y4VmvFx6Co"
      },
      "execution_count": 4,
      "outputs": []
    },
    {
      "cell_type": "markdown",
      "source": [
        "Let's first check that $X$ and $Y$ samples resemble gaussian distributions."
      ],
      "metadata": {
        "id": "qIGHmiefzFlg"
      }
    },
    {
      "cell_type": "markdown",
      "source": [
        "# Plots"
      ],
      "metadata": {
        "id": "CZbBDrne0kUD"
      }
    },
    {
      "cell_type": "markdown",
      "source": [
        "Here we plot the estimated distribution for X."
      ],
      "metadata": {
        "id": "6nUgNiErzbTQ"
      }
    },
    {
      "cell_type": "code",
      "source": [
        "sim.plot_distribition(obs_x)"
      ],
      "metadata": {
        "colab": {
          "base_uri": "https://localhost:8080/",
          "height": 430
        },
        "id": "cy7cjRdpzOWL",
        "outputId": "8fe9ac14-2184-4994-d0d9-a7f8f5dffdcf"
      },
      "execution_count": 6,
      "outputs": [
        {
          "output_type": "display_data",
          "data": {
            "text/plain": [
              "<Figure size 640x480 with 1 Axes>"
            ],
            "image/png": "[encoded data removed]"
          },
          "metadata": {}
        }
      ]
    },
    {
      "cell_type": "markdown",
      "source": [
        "Here we plot the estimated distribution for Y."
      ],
      "metadata": {
        "id": "QdoamX0_zhvV"
      }
    },
    {
      "cell_type": "code",
      "source": [
        "sim.plot_distribition(obs_y)"
      ],
      "metadata": {
        "colab": {
          "base_uri": "https://localhost:8080/",
          "height": 430
        },
        "id": "ePtnDnhezlY5",
        "outputId": "a94a490b-3478-424f-e798-635cf1b153bd"
      },
      "execution_count": 7,
      "outputs": [
        {
          "output_type": "display_data",
          "data": {
            "text/plain": [
              "<Figure size 640x480 with 1 Axes>"
            ],
            "image/png": "[encoded data removed]"
          },
          "metadata": {}
        }
      ]
    },
    {
      "cell_type": "markdown",
      "source": [
        "Both distributions indeed resemble a standard gaussian. Some inconsistencies due to the discretization granularity of the plt.hist function might create some artifacts in the plots."
      ],
      "metadata": {
        "id": "p5nm3465z7mG"
      }
    },
    {
      "cell_type": "markdown",
      "source": [
        "# Hypothesis Testing\n",
        "\n",
        "We now carry out some simple hypothesis testing to confirm that the distributions are standard normal."
      ],
      "metadata": {
        "id": "zePt2zrs0o5F"
      }
    },
    {
      "cell_type": "markdown",
      "source": [
        "## Hypothesis testing for the mean of X and Y"
      ],
      "metadata": {
        "id": "0UJqkuv23r_5"
      }
    },
    {
      "cell_type": "markdown",
      "source": [
        "Hypothesis testing for the mean $μ$\n",
        "\n",
        "We can carry out a Z-test to check the means of the two populations. We set:\n",
        "\n",
        "$H_0:μ = 0$\n",
        "\n",
        "vs\n",
        "\n",
        "\n",
        "$H_1: μ \\neq 0$\n",
        "\n",
        "\n",
        "The test-statistic is: $\\frac{X̄}{\\frac{S^2}{\\sqrt{n}}} \\sim \\mathcal{N}(0,1)$, with X̄ sample mean and $S^2$ sample variance.\n",
        "\n",
        "We will conduct a test with significance level α = 0.05."
      ],
      "metadata": {
        "id": "_gLPHo9w1UyH"
      }
    },
    {
      "cell_type": "code",
      "source": [
        "alpha = 0.05\n",
        "critical_value = norm.ppf(1-alpha/2)"
      ],
      "metadata": {
        "id": "ayhu9OsT4M7K"
      },
      "execution_count": 15,
      "outputs": []
    },
    {
      "cell_type": "markdown",
      "source": [
        "Let's start by carrying out the test on X."
      ],
      "metadata": {
        "id": "8n-VroR53lE8"
      }
    },
    {
      "cell_type": "code",
      "source": [
        "sample_mean_x = sum(obs_x) / len(obs_x)\n",
        "sample_variance_x = sim.compute_sample_variance(obs_x)\n",
        "\n",
        "test_statistic = sample_mean_x / (sample_variance_x / math.sqrt(len(obs_x)))\n",
        "\n",
        "if(-critical_value <= test_statistic <= critical_value):\n",
        "\n",
        "  print(\"Null Hypothesis cannot be rejected\")\n",
        "\n",
        "else:\n",
        "\n",
        "   print(\"Null Hypothesis has to be rejected\")"
      ],
      "metadata": {
        "colab": {
          "base_uri": "https://localhost:8080/"
        },
        "id": "sUXRhpie3jWp",
        "outputId": "8eb96dd4-bcb5-44c8-e7d7-ebff454b96a4"
      },
      "execution_count": 16,
      "outputs": [
        {
          "output_type": "stream",
          "name": "stdout",
          "text": [
            "Null Hypothesis cannot be rejected\n"
          ]
        }
      ]
    },
    {
      "cell_type": "markdown",
      "source": [
        "Now, let's carry out the test for Y"
      ],
      "metadata": {
        "id": "UaGCF04G6Nlf"
      }
    },
    {
      "cell_type": "code",
      "source": [
        "sample_mean_y = sum(obs_y) / len(obs_y)\n",
        "sample_variance_y = sim.compute_sample_variance(obs_y)\n",
        "\n",
        "test_statistic = sample_mean_y / (sample_variance_y / math.sqrt(len(obs_y)))\n",
        "\n",
        "if(-critical_value <= test_statistic <= critical_value):\n",
        "\n",
        "  print(\"Null Hypothesis cannot be rejected\")\n",
        "\n",
        "else:\n",
        "\n",
        "   print(\"Null Hypothesis has to be rejected\")"
      ],
      "metadata": {
        "colab": {
          "base_uri": "https://localhost:8080/"
        },
        "id": "dSRESYgG51Hk",
        "outputId": "f742357c-4595-49f9-be03-901f1bba563c"
      },
      "execution_count": 17,
      "outputs": [
        {
          "output_type": "stream",
          "name": "stdout",
          "text": [
            "Null Hypothesis cannot be rejected\n"
          ]
        }
      ]
    },
    {
      "cell_type": "markdown",
      "source": [
        "For both X and Y, Null hypothesis cannot be refused. So we confirm that both X and Y are 0 mean gaussians."
      ],
      "metadata": {
        "id": "ZSCYC9HX6SAU"
      }
    },
    {
      "cell_type": "markdown",
      "source": [
        "## Hypothesis testing for the variance of X and Y"
      ],
      "metadata": {
        "id": "OrnA9jW66iOk"
      }
    },
    {
      "cell_type": "markdown",
      "source": [
        "Hypothesis testing for the variance $\\sigma^2$\n",
        "\n",
        "We can carry out a $χ^2$-test to check the variances of the two populations. We set:\n",
        "\n",
        "$H_0:\\sigma^2 = 1$\n",
        "\n",
        "vs\n",
        "\n",
        "\n",
        "$H_1: \\sigma^2 \\neq 1$\n",
        "\n",
        "\n",
        "The test-statistic is: $\\frac{S^2 - 1}{\\frac{1}{\\sqrt{2n}}} \\sim \\mathcal{N}(0,1)$, with X̄ sample mean and S sample variance. This test-statistic is built by considering the normal approximation of a $χ^2$ distribution with a large number of degree of freedom.\n",
        "\n",
        "We will conduct a test with significance level α = 0.05."
      ],
      "metadata": {
        "id": "xR3v16RP6r4S"
      }
    },
    {
      "cell_type": "code",
      "source": [
        "alpha = 0.05\n",
        "critical_value = norm.ppf(1-alpha/2)"
      ],
      "metadata": {
        "id": "cDChOLex8CRs"
      },
      "execution_count": 18,
      "outputs": []
    },
    {
      "cell_type": "markdown",
      "source": [
        "Let's start by carrying out the test on X."
      ],
      "metadata": {
        "id": "DmSMlh6J8J8A"
      }
    },
    {
      "cell_type": "code",
      "source": [
        "sample_variance_x = sim.compute_sample_variance(obs_x)\n",
        "test_statistic = (sample_variance_x - 1) / (1 / math.sqrt(2 * len(obs_x)))\n",
        "\n",
        "if(-critical_value <= test_statistic <= critical_value):\n",
        "\n",
        "  print(\"Null Hypothesis cannot be rejected\")\n",
        "\n",
        "else:\n",
        "\n",
        "   print(\"Null Hypothesis has to be rejected\")"
      ],
      "metadata": {
        "colab": {
          "base_uri": "https://localhost:8080/"
        },
        "id": "Fa-UsbOQ8D3k",
        "outputId": "04a9e3f6-4485-4c67-b0d5-7f076425361d"
      },
      "execution_count": 19,
      "outputs": [
        {
          "output_type": "stream",
          "name": "stdout",
          "text": [
            "Null Hypothesis cannot be rejected\n"
          ]
        }
      ]
    },
    {
      "cell_type": "markdown",
      "source": [
        "Now, let's carry out the test for Y"
      ],
      "metadata": {
        "id": "afeZennk8lf8"
      }
    },
    {
      "cell_type": "code",
      "source": [
        "sample_variance_y = sim.compute_sample_variance(obs_y)\n",
        "test_statistic = (sample_variance_y - 1) / (1 / math.sqrt(2 * len(obs_y)))\n",
        "\n",
        "if(-critical_value <= test_statistic <= critical_value):\n",
        "\n",
        "  print(\"Null Hypothesis cannot be rejected\")\n",
        "\n",
        "else:\n",
        "\n",
        "   print(\"Null Hypothesis has to be rejected\")"
      ],
      "metadata": {
        "colab": {
          "base_uri": "https://localhost:8080/"
        },
        "id": "YBhB0gRz8hVe",
        "outputId": "c6a75804-7ea8-49a5-9513-e4eb773cc81a"
      },
      "execution_count": 20,
      "outputs": [
        {
          "output_type": "stream",
          "name": "stdout",
          "text": [
            "Null Hypothesis cannot be rejected\n"
          ]
        }
      ]
    },
    {
      "cell_type": "markdown",
      "source": [
        "We confirm that the variance of $X$ and $Y$ are standard normal $\\mathcal{N}(0,1)$"
      ],
      "metadata": {
        "id": "3dPOHihx8pis"
      }
    },
    {
      "cell_type": "markdown",
      "source": [
        "# Correlation coefficient"
      ],
      "metadata": {
        "id": "dpCIy4tY9F0l"
      }
    },
    {
      "cell_type": "markdown",
      "source": [
        "Now we compute the Pearson correlation coefficient among our observations. We expect it to be close to $\\rho = 0.8$"
      ],
      "metadata": {
        "id": "J2IjJThW9NOx"
      }
    },
    {
      "cell_type": "markdown",
      "source": [
        "Here, we manually compute the Pearson coefficient:"
      ],
      "metadata": {
        "id": "-JPJwiF8-EXf"
      }
    },
    {
      "cell_type": "code",
      "source": [
        "sim.get_pearson(obs_x,obs_y)"
      ],
      "metadata": {
        "colab": {
          "base_uri": "https://localhost:8080/"
        },
        "id": "KmbEx2VC9FFX",
        "outputId": "2db97169-e293-491c-8b0c-636b06a3f73f"
      },
      "execution_count": 21,
      "outputs": [
        {
          "output_type": "stream",
          "name": "stdout",
          "text": [
            "Pearson coefficient on the samples:  0.7975875076606382\n"
          ]
        }
      ]
    },
    {
      "cell_type": "markdown",
      "source": [
        "Let's compute the Pearson with scipy library:"
      ],
      "metadata": {
        "id": "Gt6ZHxb0-C3z"
      }
    },
    {
      "cell_type": "code",
      "source": [
        "from scipy.stats import pearsonr\n",
        "pearsonr(obs_x,obs_y)"
      ],
      "metadata": {
        "id": "112ttFwa9Zw9"
      },
      "execution_count": 22,
      "outputs": []
    },
    {
      "cell_type": "markdown",
      "source": [
        "We do get the same result for a value very close to ρ = 0.8"
      ],
      "metadata": {
        "id": "QB5h0RPe-RVc"
      }
    }
  ]
}