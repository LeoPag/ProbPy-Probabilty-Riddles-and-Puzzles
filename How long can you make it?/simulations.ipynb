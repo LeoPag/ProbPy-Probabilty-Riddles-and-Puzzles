{
  "nbformat": 4,
  "nbformat_minor": 0,
  "metadata": {
    "colab": {
      "provenance": []
    },
    "kernelspec": {
      "name": "python3",
      "display_name": "Python 3"
    },
    "language_info": {
      "name": "python"
    }
  },
  "cells": [
    {
      "cell_type": "code",
      "execution_count": 17,
      "metadata": {
        "id": "ip_mocM0fJps"
      },
      "outputs": [],
      "source": [
        "from how_much_can_it_grow import Simulation"
      ]
    },
    {
      "cell_type": "markdown",
      "source": [
        "We now run a simulation to estimate the confidence interval for the mean of the population."
      ],
      "metadata": {
        "id": "wAoE9oaWfWhT"
      }
    },
    {
      "cell_type": "code",
      "source": [
        "N =  1000000\n",
        "alpha = 0.95\n",
        "\n",
        "sim = Simulation()\n",
        "sim.get_confidence_interval(alpha,N)"
      ],
      "metadata": {
        "colab": {
          "base_uri": "https://localhost:8080/"
        },
        "id": "-b6JZ5aZfP9Q",
        "outputId": "65b878b9-bd9f-42a8-b870-1def105d3063"
      },
      "execution_count": 18,
      "outputs": [
        {
          "output_type": "stream",
          "name": "stdout",
          "text": [
            "Sample mean of the observations is:  1.718178\n",
            "The  95.0 % confidence interval for the mean of the population is: [ 1.716464427436334 1.7198915725636659 ]\n"
          ]
        }
      ]
    },
    {
      "cell_type": "markdown",
      "source": [
        "We notice that the sample mean value is close to the expected analytical value of e-1 = 1.718.."
      ],
      "metadata": {
        "id": "mZQrdCoMfXnf"
      }
    },
    {
      "cell_type": "markdown",
      "source": [
        "We retrieve the observations to conduct further analysis."
      ],
      "metadata": {
        "id": "NyMwUEybfeBj"
      }
    },
    {
      "cell_type": "code",
      "source": [
        "observations = sim.observations"
      ],
      "metadata": {
        "id": "mZ1ljzkffRz-"
      },
      "execution_count": 19,
      "outputs": []
    },
    {
      "cell_type": "markdown",
      "source": [
        "We can plot the samples in a normalized histogram to obtain an estimate of the distribution of the lengths."
      ],
      "metadata": {
        "id": "2Nu9TLRlircF"
      }
    },
    {
      "cell_type": "code",
      "source": [
        "import matplotlib.pyplot as plt\n",
        "plt.hist(observations,density = True, color = 'green', range = (0.5,7.5), bins = 7)"
      ],
      "metadata": {
        "colab": {
          "base_uri": "https://localhost:8080/",
          "height": 498
        },
        "id": "Hcj6SY0bfSWe",
        "outputId": "9939fed3-fae0-444b-e04a-453c507356c3"
      },
      "execution_count": 20,
      "outputs": [
        {
          "output_type": "execute_result",
          "data": {
            "text/plain": [
              "(array([4.99624991e-01, 3.34005016e-01, 1.24944999e-01, 3.30957943e-02,\n",
              "        6.96616719e-03, 1.20202885e-03, 1.61003864e-04]),\n",
              " array([0.5, 1.5, 2.5, 3.5, 4.5, 5.5, 6.5, 7.5]),\n",
              " <BarContainer object of 7 artists>)"
            ]
          },
          "metadata": {},
          "execution_count": 20
        },
        {
          "output_type": "display_data",
          "data": {
            "text/plain": [
              "<Figure size 640x480 with 1 Axes>"
            ],
            "image/png": "[encoded data removed]"
          },
          "metadata": {}
        }
      ]
    },
    {
      "cell_type": "markdown",
      "source": [
        "Here we define a function to compute the factorial"
      ],
      "metadata": {
        "id": "P44ynd4jlmbM"
      }
    },
    {
      "cell_type": "code",
      "source": [
        "def factorial(k):\n",
        "  if k <= 1: return 1\n",
        "  else: return k * factorial(k-1)"
      ],
      "metadata": {
        "id": "_hXAXLtzkRqH"
      },
      "execution_count": 21,
      "outputs": []
    },
    {
      "cell_type": "markdown",
      "source": [
        "We can estimate the probability of the valid succession having length j, by counting the elements in the observations. This is an unbiased estimate of the true probability (see pdf solution for details)."
      ],
      "metadata": {
        "id": "G2Q3JDQ2lswl"
      }
    },
    {
      "cell_type": "code",
      "source": [
        "max_obs = max(observations)\n",
        "\n",
        "for j in range(1,max_obs+1):\n",
        "  c = observations.count(j)\n",
        "  print(\"Estimated probability of the succession having length\", j, \"is:\", c / len(observations))\n",
        "  print(\"Analytic probability of the succession having length\", j, \"is:\", j / factorial(j+1))\n",
        "  print(\"\\n\")\n"
      ],
      "metadata": {
        "colab": {
          "base_uri": "https://localhost:8080/"
        },
        "id": "u5NU6gg4jjLr",
        "outputId": "0871c53b-2f63-4fa0-d97a-eddde88ac716"
      },
      "execution_count": 22,
      "outputs": [
        {
          "output_type": "stream",
          "name": "stdout",
          "text": [
            "Estimated probability of the succession having length 1 is: 0.499613\n",
            "Analytic probability of the succession having length 1 is: 0.5\n",
            "\n",
            "\n",
            "Estimated probability of the succession having length 2 is: 0.333997\n",
            "Analytic probability of the succession having length 2 is: 0.3333333333333333\n",
            "\n",
            "\n",
            "Estimated probability of the succession having length 3 is: 0.124942\n",
            "Analytic probability of the succession having length 3 is: 0.125\n",
            "\n",
            "\n",
            "Estimated probability of the succession having length 4 is: 0.033095\n",
            "Analytic probability of the succession having length 4 is: 0.03333333333333333\n",
            "\n",
            "\n",
            "Estimated probability of the succession having length 5 is: 0.006966\n",
            "Analytic probability of the succession having length 5 is: 0.006944444444444444\n",
            "\n",
            "\n",
            "Estimated probability of the succession having length 6 is: 0.001202\n",
            "Analytic probability of the succession having length 6 is: 0.0011904761904761906\n",
            "\n",
            "\n",
            "Estimated probability of the succession having length 7 is: 0.000161\n",
            "Analytic probability of the succession having length 7 is: 0.00017361111111111112\n",
            "\n",
            "\n",
            "Estimated probability of the succession having length 8 is: 2e-05\n",
            "Analytic probability of the succession having length 8 is: 2.2045855379188714e-05\n",
            "\n",
            "\n",
            "Estimated probability of the succession having length 9 is: 4e-06\n",
            "Analytic probability of the succession having length 9 is: 2.48015873015873e-06\n",
            "\n",
            "\n"
          ]
        }
      ]
    }
  ]
}