{
  "nbformat": 4,
  "nbformat_minor": 0,
  "metadata": {
    "colab": {
      "provenance": []
    },
    "kernelspec": {
      "name": "python3",
      "display_name": "Python 3"
    },
    "language_info": {
      "name": "python"
    }
  },
  "cells": [
    {
      "cell_type": "code",
      "execution_count": 83,
      "metadata": {
        "id": "0-6fdr2UEnNb"
      },
      "outputs": [],
      "source": [
        "from lost_in_manhattan import Simulation\n",
        "import matplotlib.pyplot as plt"
      ]
    },
    {
      "cell_type": "markdown",
      "source": [
        "Let's perform some fun simulations on the problem.\n",
        "Here we define the positions of Angelo and Leo, as well as the location of Times Square.\n",
        "Notice that we can arbitrary choose the positions of Leo and Angelo as long as Leo is located northwards and eastwards."
      ],
      "metadata": {
        "id": "wt1tGMO3EtlT"
      }
    },
    {
      "cell_type": "code",
      "source": [
        "ANGELO_POS = [0,0]\n",
        "LEO_POS = [4,4]\n",
        "TIMES_SQUARE = [2,2]"
      ],
      "metadata": {
        "id": "ug_OlePhEwC2"
      },
      "execution_count": 67,
      "outputs": []
    },
    {
      "cell_type": "code",
      "source": [
        "sim = Simulation(TIMES_SQUARE, ANGELO_POS, LEO_POS)"
      ],
      "metadata": {
        "id": "LtJjqTYpE1My"
      },
      "execution_count": 68,
      "outputs": []
    },
    {
      "cell_type": "markdown",
      "source": [
        "#Paths"
      ],
      "metadata": {
        "id": "9DoMo-1XIMar"
      }
    },
    {
      "cell_type": "markdown",
      "source": [
        "We can now list all the paths from Angelo to Leo. Those are compute with backtracking (check the code for details)."
      ],
      "metadata": {
        "id": "Xppy359jE5eA"
      }
    },
    {
      "cell_type": "code",
      "source": [
        "paths_angelo_to_leo = sim.get_paths_A_to_L()\n",
        "for i,path in enumerate(paths_angelo_to_leo):\n",
        "    print(\"PATH\", i+1,\":\", path)"
      ],
      "metadata": {
        "colab": {
          "base_uri": "https://localhost:8080/"
        },
        "id": "6xA4aWTdE3CS",
        "outputId": "44b034bb-e0d9-4ded-d0cd-2c72ecee2b99"
      },
      "execution_count": 69,
      "outputs": [
        {
          "output_type": "stream",
          "name": "stdout",
          "text": [
            "PATH 1 : →→→→↑↑↑↑\n",
            "PATH 2 : →→→↑→↑↑↑\n",
            "PATH 3 : →→→↑↑→↑↑\n",
            "PATH 4 : →→→↑↑↑→↑\n",
            "PATH 5 : →→→↑↑↑↑→\n",
            "PATH 6 : →→↑→→↑↑↑\n",
            "PATH 7 : →→↑→↑→↑↑\n",
            "PATH 8 : →→↑→↑↑→↑\n",
            "PATH 9 : →→↑→↑↑↑→\n",
            "PATH 10 : →→↑↑→→↑↑\n",
            "PATH 11 : →→↑↑→↑→↑\n",
            "PATH 12 : →→↑↑→↑↑→\n",
            "PATH 13 : →→↑↑↑→→↑\n",
            "PATH 14 : →→↑↑↑→↑→\n",
            "PATH 15 : →→↑↑↑↑→→\n",
            "PATH 16 : →↑→→→↑↑↑\n",
            "PATH 17 : →↑→→↑→↑↑\n",
            "PATH 18 : →↑→→↑↑→↑\n",
            "PATH 19 : →↑→→↑↑↑→\n",
            "PATH 20 : →↑→↑→→↑↑\n",
            "PATH 21 : →↑→↑→↑→↑\n",
            "PATH 22 : →↑→↑→↑↑→\n",
            "PATH 23 : →↑→↑↑→→↑\n",
            "PATH 24 : →↑→↑↑→↑→\n",
            "PATH 25 : →↑→↑↑↑→→\n",
            "PATH 26 : →↑↑→→→↑↑\n",
            "PATH 27 : →↑↑→→↑→↑\n",
            "PATH 28 : →↑↑→→↑↑→\n",
            "PATH 29 : →↑↑→↑→→↑\n",
            "PATH 30 : →↑↑→↑→↑→\n",
            "PATH 31 : →↑↑→↑↑→→\n",
            "PATH 32 : →↑↑↑→→→↑\n",
            "PATH 33 : →↑↑↑→→↑→\n",
            "PATH 34 : →↑↑↑→↑→→\n",
            "PATH 35 : →↑↑↑↑→→→\n",
            "PATH 36 : ↑→→→→↑↑↑\n",
            "PATH 37 : ↑→→→↑→↑↑\n",
            "PATH 38 : ↑→→→↑↑→↑\n",
            "PATH 39 : ↑→→→↑↑↑→\n",
            "PATH 40 : ↑→→↑→→↑↑\n",
            "PATH 41 : ↑→→↑→↑→↑\n",
            "PATH 42 : ↑→→↑→↑↑→\n",
            "PATH 43 : ↑→→↑↑→→↑\n",
            "PATH 44 : ↑→→↑↑→↑→\n",
            "PATH 45 : ↑→→↑↑↑→→\n",
            "PATH 46 : ↑→↑→→→↑↑\n",
            "PATH 47 : ↑→↑→→↑→↑\n",
            "PATH 48 : ↑→↑→→↑↑→\n",
            "PATH 49 : ↑→↑→↑→→↑\n",
            "PATH 50 : ↑→↑→↑→↑→\n",
            "PATH 51 : ↑→↑→↑↑→→\n",
            "PATH 52 : ↑→↑↑→→→↑\n",
            "PATH 53 : ↑→↑↑→→↑→\n",
            "PATH 54 : ↑→↑↑→↑→→\n",
            "PATH 55 : ↑→↑↑↑→→→\n",
            "PATH 56 : ↑↑→→→→↑↑\n",
            "PATH 57 : ↑↑→→→↑→↑\n",
            "PATH 58 : ↑↑→→→↑↑→\n",
            "PATH 59 : ↑↑→→↑→→↑\n",
            "PATH 60 : ↑↑→→↑→↑→\n",
            "PATH 61 : ↑↑→→↑↑→→\n",
            "PATH 62 : ↑↑→↑→→→↑\n",
            "PATH 63 : ↑↑→↑→→↑→\n",
            "PATH 64 : ↑↑→↑→↑→→\n",
            "PATH 65 : ↑↑→↑↑→→→\n",
            "PATH 66 : ↑↑↑→→→→↑\n",
            "PATH 67 : ↑↑↑→→→↑→\n",
            "PATH 68 : ↑↑↑→→↑→→\n",
            "PATH 69 : ↑↑↑→↑→→→\n",
            "PATH 70 : ↑↑↑↑→→→→\n"
          ]
        }
      ]
    },
    {
      "cell_type": "markdown",
      "source": [
        "The number of paths backtracked is the same as the one we computed with combinatorics reasoning (see pdf)."
      ],
      "metadata": {
        "id": "JwaWeG66FK52"
      }
    },
    {
      "cell_type": "code",
      "source": [
        "print(\"There are\", len(paths_angelo_to_leo), \"possible paths from Angelo to Leo\")"
      ],
      "metadata": {
        "colab": {
          "base_uri": "https://localhost:8080/"
        },
        "id": "0SOAQTxJE8rs",
        "outputId": "7bde01f8-6cbe-4c59-9d47-93e87a7dc569"
      },
      "execution_count": 70,
      "outputs": [
        {
          "output_type": "stream",
          "name": "stdout",
          "text": [
            "There are 70 possible paths from Angelo to Leo\n"
          ]
        }
      ]
    },
    {
      "cell_type": "markdown",
      "source": [
        "We can plot a random path"
      ],
      "metadata": {
        "id": "gu48PBSHHts5"
      }
    },
    {
      "cell_type": "code",
      "source": [
        "random_path = sim.get_random_path(paths_angelo_to_leo)"
      ],
      "metadata": {
        "id": "jkwVdcapFGL6"
      },
      "execution_count": 71,
      "outputs": []
    },
    {
      "cell_type": "code",
      "source": [
        "# Grid\n",
        "plt.grid(True, linestyle='-', linewidth=0.5, color='black')\n",
        "\n",
        "# Path\n",
        "path_type = \"vertical\"  # Change to \"horizontal\" for a horizontal segment\n",
        "curr_pos = [ANGELO_POS[0],ANGELO_POS[1]]\n",
        "\n",
        "for move in random_path:\n",
        "\n",
        "  if move == '→':\n",
        "    next_pos = [curr_pos[0]+1,curr_pos[1]]\n",
        "\n",
        "  if move == '↑':\n",
        "    next_pos = [curr_pos[0],curr_pos[1] + 1]\n",
        "\n",
        "  path_x = [curr_pos[0], next_pos[0]]\n",
        "  path_y = [curr_pos[1], next_pos[1]]\n",
        "\n",
        "  plt.plot(path_x, path_y, 'r-', linewidth=2)\n",
        "  curr_pos = next_pos\n",
        "\n",
        "# Markers\n",
        "plt.plot(LEO_POS[0], LEO_POS[1], marker='o', markersize=5, color='blue')\n",
        "plt.text(LEO_POS[0], LEO_POS[1], \"Leo\", color='blue', ha='right', va='bottom')\n",
        "plt.plot(ANGELO_POS[0], ANGELO_POS[1], marker='o', markersize=5, color='blue')\n",
        "plt.text(ANGELO_POS[0], ANGELO_POS[1], \"Angelo\", color='blue', ha='right', va='bottom')\n",
        "plt.plot(TIMES_SQUARE[0], TIMES_SQUARE[1], marker='o', markersize=5, color='green')\n",
        "plt.text(TIMES_SQUARE[0], TIMES_SQUARE[1], \"Times Square\", color='green', ha='right', va='bottom')\n",
        "\n",
        "# Plot labels and title\n",
        "plt.xlabel('X')\n",
        "plt.ylabel('Y')\n",
        "plt.title('Manhattan')\n",
        "\n",
        "# Display the plot\n",
        "plt.show()"
      ],
      "metadata": {
        "colab": {
          "base_uri": "https://localhost:8080/",
          "height": 472
        },
        "id": "i8ZikqbMHwRt",
        "outputId": "4830a6f9-f139-4b62-c829-60e1062ef1ad"
      },
      "execution_count": 72,
      "outputs": [
        {
          "output_type": "display_data",
          "data": {
            "text/plain": [
              "<Figure size 640x480 with 1 Axes>"
            ],
            "image/png": "[encoded data removed]"
          },
          "metadata": {}
        }
      ]
    },
    {
      "cell_type": "markdown",
      "source": [
        "# Simulations"
      ],
      "metadata": {
        "id": "lze4C4CsKGNK"
      }
    },
    {
      "cell_type": "markdown",
      "source": [
        "Now we analyze questions 2 and 3 of the problem. We will run some simulations to compute the probabilities that:\n",
        "\n",
        " 1) Angelo and Leo bump into each other at Times Square\n",
        "\n",
        " 2) Angelo and Leo bump into each other."
      ],
      "metadata": {
        "id": "jRnrgDiMIKPr"
      }
    },
    {
      "cell_type": "markdown",
      "source": [
        "Let's first define the number of experiments N and the confidence for the computatation of our confidence interval."
      ],
      "metadata": {
        "id": "caYvKeY3KRra"
      }
    },
    {
      "cell_type": "code",
      "source": [
        "N = 100000\n",
        "CONFIDENCE = 0.95"
      ],
      "metadata": {
        "id": "E-sM9skKICUW"
      },
      "execution_count": 84,
      "outputs": []
    },
    {
      "cell_type": "code",
      "source": [
        "sim.get_confidence_interval(CONFIDENCE, N)"
      ],
      "metadata": {
        "colab": {
          "base_uri": "https://localhost:8080/"
        },
        "id": "ABdNktooKdwj",
        "outputId": "72c9e381-56d2-4f82-d65c-c2148736e4ce"
      },
      "execution_count": 85,
      "outputs": [
        {
          "output_type": "stream",
          "name": "stdout",
          "text": [
            "\n",
            "\n",
            "The sample proportion of the meetings in Times Square is:  0.26195\n",
            "The  95.0 % confidence interval for sample_proportion of the meetings in Times Square is: [ 0.2592247886771655 0.26467521132283456 ]\n",
            "\n",
            "\n",
            "The sample proportion of the meetings is:  0.36784\n",
            "The  95.0 % confidence interval for sample_proportion of the meetings is: [ 0.3648512397802436 0.3708287602197564 ]\n"
          ]
        },
        {
          "output_type": "execute_result",
          "data": {
            "text/plain": [
              "(0.26195, 0.36784)"
            ]
          },
          "metadata": {},
          "execution_count": 85
        }
      ]
    },
    {
      "cell_type": "markdown",
      "source": [
        "Our estimators are very close to the analytical answer computed in the PDF"
      ],
      "metadata": {
        "id": "Tt1X9mkCKtb2"
      }
    },
    {
      "cell_type": "markdown",
      "source": [
        "# More simulations"
      ],
      "metadata": {
        "id": "e7PN390VM4hI"
      }
    },
    {
      "cell_type": "markdown",
      "source": [
        "We can now run more simulations where Angelo is at position $(0,0)$. Leo starts further away at position $(2i,2i)$, while Times Square is in the middle of the square at position $(i,i)$ for $i \\in [1,... Max_i]$\n",
        "\n",
        "Notice that we must keep $Max_i$ as the computations of the number of paths is $\\mathcal{O}(Max_i)$."
      ],
      "metadata": {
        "id": "5ipbUW4pM-Tt"
      }
    },
    {
      "cell_type": "code",
      "source": [
        "ANGELO_POS = [0,0]\n",
        "\n",
        "N = 100000\n",
        "CONFIDENCE = 0.95\n",
        "\n",
        "MAX_i = 5\n",
        "\n",
        "for i in range(1,MAX_i + 1):\n",
        "  LEO_POS = [2*i, 2*i]\n",
        "  TIMES_SQUARE = [i,i]\n",
        "\n",
        "  sim_exp = Simulation(TIMES_SQUARE, ANGELO_POS, LEO_POS)\n",
        "  paths_exp = sim_exp.get_paths_A_to_L()\n",
        "\n",
        "  print(\"\\n\")\n",
        "  print(\"\\n\")\n",
        "  print(\"SIMULATION with ANGELO at: \", ANGELO_POS, \"LEO at: \", LEO_POS, \"and TIMES SQUARE at: \", TIMES_SQUARE)\n",
        "  print(\"\\n\")\n",
        "  print(\"There are\", len(paths_exp), \"possible paths from Angelo to Leo\")\n",
        "\n",
        "  sim_exp.get_confidence_interval(CONFIDENCE,N)\n",
        "\n"
      ],
      "metadata": {
        "colab": {
          "base_uri": "https://localhost:8080/"
        },
        "id": "EBId4EbpKxkR",
        "outputId": "a8a3b026-1a07-4b94-8483-fd9ae0cf34ec"
      },
      "execution_count": 82,
      "outputs": [
        {
          "output_type": "stream",
          "name": "stdout",
          "text": [
            "\n",
            "\n",
            "\n",
            "\n",
            "SIMULATION with ANGELO at:  [0, 0] LEO at:  [2, 2] and TIMES SQUARE at:  [1, 1]\n",
            "\n",
            "\n",
            "There are 6 possible paths from Angelo to Leo\n",
            "\n",
            "\n",
            "The sample proportion of the meetings in Times Square is:  0.44342\n",
            "The  95.0 % confidence interval for sample_proportion of the meetings in Times Square is: [ 0.44034093024294657 0.4464990697570534 ]\n",
            "\n",
            "\n",
            "The sample proportion of the meetings is:  0.49929\n",
            "The  95.0 % confidence interval for sample_proportion of the meetings is: [ 0.4961910279628655 0.5023889720371345 ]\n",
            "\n",
            "\n",
            "\n",
            "\n",
            "SIMULATION with ANGELO at:  [0, 0] LEO at:  [4, 4] and TIMES SQUARE at:  [2, 2]\n",
            "\n",
            "\n",
            "There are 70 possible paths from Angelo to Leo\n",
            "\n",
            "\n",
            "The sample proportion of the meetings in Times Square is:  0.26301\n",
            "The  95.0 % confidence interval for sample_proportion of the meetings in Times Square is: [ 0.26028124201731884 0.2657387579826812 ]\n",
            "\n",
            "\n",
            "The sample proportion of the meetings is:  0.36704\n",
            "The  95.0 % confidence interval for sample_proportion of the meetings is: [ 0.364052603128023 0.37002739687197694 ]\n",
            "\n",
            "\n",
            "\n",
            "\n",
            "SIMULATION with ANGELO at:  [0, 0] LEO at:  [6, 6] and TIMES SQUARE at:  [3, 3]\n",
            "\n",
            "\n",
            "There are 924 possible paths from Angelo to Leo\n",
            "\n",
            "\n",
            "The sample proportion of the meetings in Times Square is:  0.18612\n",
            "The  95.0 % confidence interval for sample_proportion of the meetings in Times Square is: [ 0.1837077361912343 0.18853226380876573 ]\n",
            "\n",
            "\n",
            "The sample proportion of the meetings is:  0.30826\n",
            "The  95.0 % confidence interval for sample_proportion of the meetings is: [ 0.30539794402784726 0.3111220559721527 ]\n",
            "\n",
            "\n",
            "\n",
            "\n",
            "SIMULATION with ANGELO at:  [0, 0] LEO at:  [8, 8] and TIMES SQUARE at:  [4, 4]\n",
            "\n",
            "\n",
            "There are 12870 possible paths from Angelo to Leo\n",
            "\n",
            "\n",
            "The sample proportion of the meetings in Times Square is:  0.14562\n",
            "The  95.0 % confidence interval for sample_proportion of the meetings in Times Square is: [ 0.1434338289389628 0.1478061710610372 ]\n",
            "\n",
            "\n",
            "The sample proportion of the meetings is:  0.2723\n",
            "The  95.0 % confidence interval for sample_proportion of the meetings is: [ 0.26954102287854004 0.27505897712145994 ]\n",
            "\n",
            "\n",
            "\n",
            "\n",
            "SIMULATION with ANGELO at:  [0, 0] LEO at:  [10, 10] and TIMES SQUARE at:  [5, 5]\n",
            "\n",
            "\n",
            "There are 184756 possible paths from Angelo to Leo\n",
            "\n",
            "\n",
            "The sample proportion of the meetings in Times Square is:  0.11938\n",
            "The  95.0 % confidence interval for sample_proportion of the meetings in Times Square is: [ 0.11737040680879882 0.12138959319120118 ]\n",
            "\n",
            "\n",
            "The sample proportion of the meetings is:  0.24713\n",
            "The  95.0 % confidence interval for sample_proportion of the meetings is: [ 0.24445655766144042 0.24980344233855956 ]\n"
          ]
        }
      ]
    },
    {
      "cell_type": "markdown",
      "source": [
        "As expected, the number of possible paths for Angelo skyrockets, while the probabilities of meetings both shrink."
      ],
      "metadata": {
        "id": "BdpzmK0LOJ1v"
      }
    }
  ]
}