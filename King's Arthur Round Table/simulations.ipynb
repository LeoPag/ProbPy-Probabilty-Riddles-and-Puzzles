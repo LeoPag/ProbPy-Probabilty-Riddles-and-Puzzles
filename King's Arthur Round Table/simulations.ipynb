{
  "nbformat": 4,
  "nbformat_minor": 0,
  "metadata": {
    "colab": {
      "provenance": []
    },
    "kernelspec": {
      "name": "python3",
      "display_name": "Python 3"
    },
    "language_info": {
      "name": "python"
    }
  },
  "cells": [
    {
      "cell_type": "code",
      "execution_count": 1,
      "metadata": {
        "id": "Bqz5fh7m1KzS"
      },
      "outputs": [],
      "source": [
        "from king_arthur_round_table import Simulation"
      ]
    },
    {
      "cell_type": "code",
      "source": [
        "\"\"\"\n",
        "Create the object for the problem\n",
        "\"\"\"\n",
        "\n",
        "sim = Simulation()\n",
        "\n",
        "\"\"\"\n",
        "Define here the statistical parameters\n",
        "\"\"\"\n",
        "CONFIDENCE = 0.95\n",
        "SAMPLES = 10000\n",
        "\n",
        "sim.get_confidence_interval(CONFIDENCE, SAMPLES)"
      ],
      "metadata": {
        "id": "N5YKMMmQ1TSv",
        "outputId": "6434e6b6-66b7-4f6a-83c6-4d1a6569c00c",
        "colab": {
          "base_uri": "https://localhost:8080/"
        }
      },
      "execution_count": 2,
      "outputs": [
        {
          "output_type": "stream",
          "name": "stdout",
          "text": [
            "The sample proportion is:  0.332\n",
            "The  95.0 % confidence interval for the mean of the population is: [ 0.32276992214865846 0.3412300778513416 ]\n"
          ]
        }
      ]
    }
  ]
}