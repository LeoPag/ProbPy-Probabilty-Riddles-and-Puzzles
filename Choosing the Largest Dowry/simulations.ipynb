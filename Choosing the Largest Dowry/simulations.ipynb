{
  "nbformat": 4,
  "nbformat_minor": 0,
  "metadata": {
    "colab": {
      "provenance": []
    },
    "kernelspec": {
      "name": "python3",
      "display_name": "Python 3"
    },
    "language_info": {
      "name": "python"
    }
  },
  "cells": [
    {
      "cell_type": "code",
      "metadata": {
        "id": "Y8QhJaKqPP9z"
      },
      "source": [
        "from largest_dowry import Simulation"
      ],
      "execution_count": 1,
      "outputs": []
    },
    {
      "cell_type": "markdown",
      "source": [
        "Let's run some simulations for the Largest Dowry problem.\n",
        "Let's fix the number of ladies to 100."
      ],
      "metadata": {
        "id": "fsbJuzbzh9ii"
      }
    },
    {
      "cell_type": "code",
      "source": [
        "N_Ladies = 100"
      ],
      "metadata": {
        "id": "KggtVCoJh8Y1"
      },
      "execution_count": 3,
      "outputs": []
    },
    {
      "cell_type": "markdown",
      "source": [
        "The code computes the optimal ℓ for the optimal strategy. As proved in the pdf, the optimal strategy is to skip the first ℓ - 1 ladies and pick the next valid candidate. A candidate is valid if her dowry is bigger than all of the first ℓ - 1 dowries."
      ],
      "metadata": {
        "id": "nFkQJnGjjMs9"
      }
    },
    {
      "cell_type": "code",
      "source": [
        "sim = Simulation(N_Ladies)"
      ],
      "metadata": {
        "id": "qh-As3htiMy8"
      },
      "execution_count": 4,
      "outputs": []
    },
    {
      "cell_type": "markdown",
      "source": [
        "First, let's find the optimal ℓ by numerically solving the inequality. (Check the code and the pdf for details)."
      ],
      "metadata": {
        "id": "m0EpZ5m4ilz9"
      }
    },
    {
      "cell_type": "code",
      "source": [
        "optimal_l = sim.find_optimal_l()\n",
        "print(\"Optimal l for \", N_Ladies, \"ladies is: \", optimal_l)"
      ],
      "metadata": {
        "colab": {
          "base_uri": "https://localhost:8080/"
        },
        "id": "ZaLQdAh8ieP0",
        "outputId": "3657a989-9ad0-438b-cc96-6a3d508931f7"
      },
      "execution_count": 6,
      "outputs": [
        {
          "output_type": "stream",
          "name": "stdout",
          "text": [
            "Optimal l for  100 ladies is:  38\n"
          ]
        }
      ]
    },
    {
      "cell_type": "code",
      "source": [
        "CONFIDENCE = 0.95\n",
        "N = 10000\n",
        "\n",
        "_ ,_ =  sim.get_confidence_interval(CONFIDENCE, 10000)"
      ],
      "metadata": {
        "colab": {
          "base_uri": "https://localhost:8080/"
        },
        "id": "YyAU-bpYiWq5",
        "outputId": "07fac63e-8fd5-41fd-a074-e738f8286680"
      },
      "execution_count": 8,
      "outputs": [
        {
          "output_type": "stream",
          "name": "stdout",
          "text": [
            "The average proportion of the times our strategy gives the correct answer is:  0.3723\n",
            "The 95.0 % confidence interval for the average proportion of the times our strategy gives the correct answer is: [ 0.36282518642842293 0.3817748135715771 ]\n"
          ]
        }
      ]
    },
    {
      "cell_type": "markdown",
      "source": [
        "The simulated proportion is close to the value we found analytically."
      ],
      "metadata": {
        "id": "rZiR0Y58k5bn"
      }
    },
    {
      "cell_type": "markdown",
      "source": [
        "Let us now run more experiments for a different starting number of ladies.\n",
        "We will store the optimal \\ell and the probabilty of winning."
      ],
      "metadata": {
        "id": "_VbDc9UGlIEN"
      }
    },
    {
      "cell_type": "code",
      "source": [
        "CONFIDENCE = 0.95\n",
        "N = 100000\n",
        "LADIES =  [10,50,100,200,500,1000,1500,2000,2500,5000]\n",
        "OPTIMAL_LS = []\n",
        "PROBS = []\n",
        "\n",
        "for n_lad in LADIES:\n",
        "\n",
        "  sim = Simulation(n_lad)\n",
        "  optimal_l = sim.find_optimal_l()\n",
        "  OPTIMAL_LS.append(optimal_l/n_lad)\n",
        "  print(\"\\n\")\n",
        "  print(\"\\n\")\n",
        "  print(\"Optimal l for \", n_lad, \"ladies is: \", optimal_l)\n",
        "  _, observations = sim.get_confidence_interval(CONFIDENCE, 10000)\n",
        "  PROBS.append(sum(observations)/ N)"
      ],
      "metadata": {
        "colab": {
          "base_uri": "https://localhost:8080/"
        },
        "id": "52Fjm0ZFkj9T",
        "outputId": "630c388f-96ee-4fd6-db82-13f9e0f4c847"
      },
      "execution_count": 24,
      "outputs": [
        {
          "output_type": "stream",
          "name": "stdout",
          "text": [
            "\n",
            "\n",
            "\n",
            "\n",
            "Optimal l for  10 ladies is:  4\n",
            "The average proportion of the times our strategy gives the correct answer is:  0.4058\n",
            "The 95.0 % confidence interval for the average proportion of the times our strategy gives the correct answer is: [ 0.39617567154278355 0.41542432845721644 ]\n",
            "\n",
            "\n",
            "\n",
            "\n",
            "Optimal l for  50 ladies is:  19\n",
            "The average proportion of the times our strategy gives the correct answer is:  0.3779\n",
            "The 95.0 % confidence interval for the average proportion of the times our strategy gives the correct answer is: [ 0.3683968707149881 0.3874031292850119 ]\n",
            "\n",
            "\n",
            "\n",
            "\n",
            "Optimal l for  100 ladies is:  38\n",
            "The average proportion of the times our strategy gives the correct answer is:  0.3699\n",
            "The 95.0 % confidence interval for the average proportion of the times our strategy gives the correct answer is: [ 0.3604377374018691 0.37936226259813094 ]\n",
            "\n",
            "\n",
            "\n",
            "\n",
            "Optimal l for  200 ladies is:  74\n",
            "The average proportion of the times our strategy gives the correct answer is:  0.375\n",
            "The 95.0 % confidence interval for the average proportion of the times our strategy gives the correct answer is: [ 0.36551136516088756 0.38448863483911244 ]\n",
            "\n",
            "\n",
            "\n",
            "\n",
            "Optimal l for  500 ladies is:  185\n",
            "The average proportion of the times our strategy gives the correct answer is:  0.3746\n",
            "The 95.0 % confidence interval for the average proportion of the times our strategy gives the correct answer is: [ 0.36511339285843086 0.3840866071415691 ]\n",
            "\n",
            "\n",
            "\n",
            "\n",
            "Optimal l for  1000 ladies is:  369\n",
            "The average proportion of the times our strategy gives the correct answer is:  0.3766\n",
            "The 95.0 % confidence interval for the average proportion of the times our strategy gives the correct answer is: [ 0.3671033234208283 0.3860966765791717 ]\n",
            "\n",
            "\n",
            "\n",
            "\n",
            "Optimal l for  1500 ladies is:  553\n",
            "The average proportion of the times our strategy gives the correct answer is:  0.3713\n",
            "The 95.0 % confidence interval for the average proportion of the times our strategy gives the correct answer is: [ 0.36183038558271885 0.3807696144172812 ]\n",
            "\n",
            "\n",
            "\n",
            "\n",
            "Optimal l for  2000 ladies is:  737\n",
            "The average proportion of the times our strategy gives the correct answer is:  0.3661\n",
            "The 95.0 % confidence interval for the average proportion of the times our strategy gives the correct answer is: [ 0.35665812315653844 0.3755418768434615 ]\n",
            "\n",
            "\n",
            "\n",
            "\n",
            "Optimal l for  2500 ladies is:  921\n",
            "The average proportion of the times our strategy gives the correct answer is:  0.3705\n",
            "The 95.0 % confidence interval for the average proportion of the times our strategy gives the correct answer is: [ 0.36103457618283374 0.37996542381716625 ]\n",
            "\n",
            "\n",
            "\n",
            "\n",
            "Optimal l for  5000 ladies is:  1840\n",
            "The average proportion of the times our strategy gives the correct answer is:  0.3623\n",
            "The 95.0 % confidence interval for the average proportion of the times our strategy gives the correct answer is: [ 0.3528791418095203 0.37172085819047973 ]\n"
          ]
        }
      ]
    },
    {
      "cell_type": "code",
      "source": [
        "import matplotlib.pyplot as plt\n",
        "plt.plot(LADIES, OPTIMAL_LS)\n",
        "plt.show()\n",
        "plt.plot(LADIES, PROBS)\n",
        "plt.show()"
      ],
      "metadata": {
        "colab": {
          "base_uri": "https://localhost:8080/",
          "height": 843
        },
        "id": "XT86jQ4gnI85",
        "outputId": "e3458772-68fe-4915-a228-03c0aa1cea2a"
      },
      "execution_count": 25,
      "outputs": [
        {
          "output_type": "display_data",
          "data": {
            "text/plain": [
              "<Figure size 640x480 with 1 Axes>"
            ],
            "image/png": "[encoded data removed]"
          },
          "metadata": {}
        },
        {
          "output_type": "display_data",
          "data": {
            "text/plain": [
              "<Figure size 640x480 with 1 Axes>"
            ],
            "image/png": "[encoded data removed]"
          },
          "metadata": {}
        }
      ]
    },
    {
      "cell_type": "markdown",
      "source": [
        "Both the fraction of ladies skipped as well as the probability of winning converge towards $\\frac{1}{e}$."
      ],
      "metadata": {
        "id": "fnoIDqGapnMh"
      }
    }
  ]
}